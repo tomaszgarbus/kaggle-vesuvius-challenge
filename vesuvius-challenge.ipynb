{
  "metadata": {
    "kernelspec": {
      "language": "python",
      "display_name": "Python 3",
      "name": "python3"
    },
    "language_info": {
      "pygments_lexer": "ipython3",
      "nbconvert_exporter": "python",
      "version": "3.6.4",
      "file_extension": ".py",
      "codemirror_mode": {
        "name": "ipython",
        "version": 3
      },
      "name": "python",
      "mimetype": "text/x-python"
    },
    "colab": {
      "provenance": []
    }
  },
  "nbformat_minor": 0,
  "nbformat": 4,
  "cells": [
    {
      "cell_type": "code",
      "source": [
        "try:\n",
        "  from google.colab import drive\n",
        "  drive.mount('/content/drive')\n",
        "except:\n",
        "  pass"
      ],
      "metadata": {
        "id": "yPpff_jnI3jF"
      },
      "execution_count": null,
      "outputs": []
    },
    {
      "cell_type": "code",
      "source": [
        "%%shell\n",
        "if [ ! -d \"/kaggle/input/vesuvius-challenge-ink-detection\" ]; then\n",
        "  mkdir /kaggle\n",
        "  mkdir /kaggle/input\n",
        "  mkdir /kaggle/working\n",
        "  cp -r /content/drive/Shareddrives/\"Kaggle data\"/vesuvius-challenge-ink-detection /kaggle/input/\n",
        "fi"
      ],
      "metadata": {
        "id": "Y-9FMNgAI4wa"
      },
      "execution_count": null,
      "outputs": []
    },
    {
      "cell_type": "markdown",
      "source": [
        "Imports and constants"
      ],
      "metadata": {
        "id": "0pFJzJjXIvWf"
      }
    },
    {
      "cell_type": "code",
      "source": [
        "import numpy as np # linear algebra\n",
        "import pandas as pd # data processing, CSV file I/O (e.g. pd.read_csv)\n",
        "from PIL import Image\n",
        "from pathlib import Path\n",
        "from tqdm import tqdm\n",
        "\n",
        "import torch\n",
        "import torch.utils.data as thd\n",
        "import torch.nn as nn\n",
        "\n",
        "from sklearn.metrics import fbeta_score\n",
        "\n",
        "from scipy.ndimage.filters import gaussian_filter1d\n",
        "\n",
        "import matplotlib.pyplot as plt\n",
        "\n",
        "from collections import defaultdict\n",
        "import os\n",
        "\n",
        "BATCH_SIZE = 256\n",
        "BUFFER = 10  # Buffer size in both dimensions: x and y. Effective patch size is [BUFFER * 2 + 1, BUFFER * 2 + 1, Z_DIM].\n",
        "SLICES = 65\n",
        "DEVICE = torch.device(\"cuda\" if torch.cuda.is_available() else \"cpu\")\n",
        "LEARNING_RATE = 0.003\n",
        "Z_START = 25\n",
        "Z_END = 40\n",
        "Z_DIM = Z_END - Z_START\n",
        "\n",
        "MAX_TRAIN_STEPS = 30000000\n",
        "MAX_VAL_STEPS = 1000\n",
        "PRINT_EVERY = 20000000"
      ],
      "metadata": {
        "_uuid": "8f2839f25d086af736a60e9eeb907d3b93b6e0e5",
        "_cell_guid": "b1076dfc-b9ad-4769-8c92-a6c4dae69d19",
        "execution": {
          "iopub.status.busy": "2023-05-23T20:18:41.820855Z",
          "iopub.execute_input": "2023-05-23T20:18:41.821569Z",
          "iopub.status.idle": "2023-05-23T20:18:41.829047Z",
          "shell.execute_reply.started": "2023-05-23T20:18:41.821535Z",
          "shell.execute_reply": "2023-05-23T20:18:41.828142Z"
        },
        "trusted": true,
        "id": "O6qI6RYRIvWg"
      },
      "execution_count": null,
      "outputs": []
    },
    {
      "cell_type": "markdown",
      "source": [
        "First, let's see if we can fit all one full fragment into memory at once."
      ],
      "metadata": {
        "id": "wzibLi7YIvWi"
      }
    },
    {
      "cell_type": "code",
      "source": [
        "def pad_array(array):\n",
        "    padding = (\n",
        "        (BUFFER, BUFFER),\n",
        "        (BUFFER, BUFFER),\n",
        "    )\n",
        "    return np.pad(array, padding)\n",
        "\n",
        "def load_fragment_surface(fragment, split='train'):\n",
        "    print(\"Loading fragment %s surface\" % fragment)\n",
        "    surface_path = Path(\"/kaggle/input/vesuvius-challenge-ink-detection/%s/%s/surface_volume\" % (split, fragment))\n",
        "    return np.array([\n",
        "        pad_array(np.array(Image.open(f)))\n",
        "        for f in tqdm(sorted(surface_path.rglob(\"*.tif\"))[Z_START:Z_END])\n",
        "    ])\n",
        "\n",
        "def load_mask(fragment, split='train'):\n",
        "    mask_path = Path(\"/kaggle/input/vesuvius-challenge-ink-detection/%s/%s/mask.png\" % (split, fragment))\n",
        "    return pad_array(np.array(Image.open(mask_path)))\n",
        "\n",
        "def load_inklabels(fragment, split='train'):\n",
        "    inklabels_path = Path(\"/kaggle/input/vesuvius-challenge-ink-detection/%s/%s/inklabels.png\" % (split, fragment))\n",
        "    return pad_array(np.array(Image.open(inklabels_path)))"
      ],
      "metadata": {
        "execution": {
          "iopub.status.busy": "2023-05-23T20:18:41.830753Z",
          "iopub.execute_input": "2023-05-23T20:18:41.831016Z",
          "iopub.status.idle": "2023-05-23T20:18:41.844071Z",
          "shell.execute_reply.started": "2023-05-23T20:18:41.830994Z",
          "shell.execute_reply": "2023-05-23T20:18:41.843311Z"
        },
        "trusted": true,
        "id": "SbE__JcgIvWi"
      },
      "execution_count": null,
      "outputs": []
    },
    {
      "cell_type": "code",
      "source": [
        "class SingleFragmentDataset(thd.Dataset):\n",
        "    def __init__(self, fragment, is_test=False):\n",
        "        self.is_test = is_test\n",
        "        split = 'test' if is_test else 'train'\n",
        "        self.surface = load_fragment_surface(fragment, split)\n",
        "        self.mask = load_mask(fragment, split)\n",
        "        self.inklabels = load_inklabels(fragment, split) if not is_test else None\n",
        "        self.pixels = np.stack(np.where(self.mask == 1), axis=1)\n",
        "    \n",
        "    def __len__(self):\n",
        "        return self.pixels.shape[0]\n",
        "    \n",
        "    def __getitem__(self, index):\n",
        "        x, y = self.pixels[index]\n",
        "        x_start = x - BUFFER\n",
        "        x_end = x + BUFFER + 1\n",
        "        y_start = y - BUFFER\n",
        "        y_end = y + BUFFER + 1\n",
        "        patch_surface = np.s_[:, x_start:x_end, y_start:y_end]\n",
        "        patch_labels = np.s_[x_start:x_end, y_start:y_end]\n",
        "#         return self.surface[patch_surface].astype(np.float32), self.inklabels[patch_labels].astype(np.float32)\n",
        "        surface = self.surface[patch_surface].astype(np.float32)\n",
        "        labels = self.inklabels[x, y].reshape((1, )).astype(np.float32) if not self.is_test else None\n",
        "        return (surface, labels) if not self.is_test else (surface, index)"
      ],
      "metadata": {
        "execution": {
          "iopub.status.busy": "2023-05-23T20:18:41.845527Z",
          "iopub.execute_input": "2023-05-23T20:18:41.846299Z",
          "iopub.status.idle": "2023-05-23T20:18:41.855143Z",
          "shell.execute_reply.started": "2023-05-23T20:18:41.846264Z",
          "shell.execute_reply": "2023-05-23T20:18:41.854433Z"
        },
        "trusted": true,
        "id": "48em7RIOIvWi"
      },
      "execution_count": null,
      "outputs": []
    },
    {
      "cell_type": "code",
      "source": [
        "%%time\n",
        "train_dataset = SingleFragmentDataset(1)"
      ],
      "metadata": {
        "execution": {
          "iopub.status.busy": "2023-05-23T20:18:41.856049Z",
          "iopub.execute_input": "2023-05-23T20:18:41.856470Z",
          "iopub.status.idle": "2023-05-23T20:18:47.195884Z",
          "shell.execute_reply.started": "2023-05-23T20:18:41.856446Z",
          "shell.execute_reply": "2023-05-23T20:18:47.194742Z"
        },
        "trusted": true,
        "id": "DasMu0BjIvWj"
      },
      "execution_count": null,
      "outputs": []
    },
    {
      "cell_type": "code",
      "source": [
        "train_loader = thd.DataLoader(train_dataset, BATCH_SIZE, shuffle=True)"
      ],
      "metadata": {
        "execution": {
          "iopub.status.busy": "2023-05-23T20:18:47.198081Z",
          "iopub.execute_input": "2023-05-23T20:18:47.198747Z",
          "iopub.status.idle": "2023-05-23T20:18:47.207998Z",
          "shell.execute_reply.started": "2023-05-23T20:18:47.198719Z",
          "shell.execute_reply": "2023-05-23T20:18:47.207015Z"
        },
        "trusted": true,
        "id": "YY55qItZIvWj"
      },
      "execution_count": null,
      "outputs": []
    },
    {
      "cell_type": "markdown",
      "source": [
        "Define the model"
      ],
      "metadata": {
        "id": "dbpHn6DQIvWj"
      }
    },
    {
      "cell_type": "code",
      "source": [
        "convnet = nn.Sequential(\n",
        "    nn.Conv2d(Z_DIM, 32, kernel_size=3, stride=1, dilation=1, padding='same'),\n",
        "    nn.Dropout(p=0.2),\n",
        "    nn.ReLU(),\n",
        "    nn.BatchNorm2d(32),\n",
        "    nn.Conv2d(32, 16, kernel_size=3, stride=1, dilation=1, padding='same'),\n",
        "    nn.Dropout(p=0.2),\n",
        "    nn.ReLU(),\n",
        "    nn.BatchNorm2d(16),\n",
        "    nn.Conv2d(16, 8, kernel_size=3, stride=1, dilation=1, padding='same'),\n",
        "    nn.Dropout(p=0.2),\n",
        "    nn.ReLU(),\n",
        "    nn.BatchNorm2d(8),\n",
        "    nn.Conv2d(8, 1, kernel_size=3, stride=1, dilation=1, padding='same'),\n",
        "    nn.ReLU(),\n",
        "    nn.Flatten(),\n",
        "    nn.Linear((2 * BUFFER + 1) ** 2, 128),\n",
        "    nn.Dropout(p=0.2),\n",
        "    nn.ReLU(),\n",
        "    nn.Linear(128, 64),\n",
        "    nn.Dropout(p=0.2),\n",
        "    nn.ReLU(),\n",
        "    nn.Linear(64, 1),\n",
        "    nn.Sigmoid()\n",
        ").to(DEVICE)"
      ],
      "metadata": {
        "execution": {
          "iopub.status.busy": "2023-05-23T20:18:47.209189Z",
          "iopub.execute_input": "2023-05-23T20:18:47.209997Z",
          "iopub.status.idle": "2023-05-23T20:18:47.229778Z",
          "shell.execute_reply.started": "2023-05-23T20:18:47.209971Z",
          "shell.execute_reply": "2023-05-23T20:18:47.228986Z"
        },
        "trusted": true,
        "id": "UZFbsO4EIvWj"
      },
      "execution_count": null,
      "outputs": []
    },
    {
      "cell_type": "markdown",
      "source": [
        "Train the model"
      ],
      "metadata": {
        "id": "II45WrTaIvWk"
      }
    },
    {
      "cell_type": "code",
      "source": [
        "%%time\n",
        "losses = []\n",
        "accs = []\n",
        "fbetas = []\n",
        "\n",
        "convnet.train()\n",
        "criterion = nn.BCELoss()\n",
        "optimizer = torch.optim.SGD(convnet.parameters(), lr=LEARNING_RATE)\n",
        "for i, (xs, ys) in enumerate(pbar := tqdm(train_loader)):\n",
        "    if i > MAX_TRAIN_STEPS:\n",
        "        break\n",
        "    optimizer.zero_grad()\n",
        "    outputs = convnet(xs.to(DEVICE))\n",
        "    if i % PRINT_EVERY == PRINT_EVERY - 1:\n",
        "        print(outputs)\n",
        "        plt.plot(gaussian_filter1d(losses, sigma=10), label='loss')\n",
        "        plt.plot(gaussian_filter1d(accs, sigma=10), label='accs')\n",
        "        plt.plot(gaussian_filter1d(fbetas, sigma=10), label='fbetas')\n",
        "        plt.legend()\n",
        "    loss = criterion(outputs, ys.to(DEVICE))\n",
        "    pred_ink = outputs.detach().gt(0.4).cpu().int()\n",
        "    accuracy = (pred_ink == ys).sum().float().div(ys.size(0))\n",
        "    fbeta = fbeta_score(ys.view(-1).numpy(), pred_ink.view(-1).numpy(), beta=0.5)\n",
        "    pbar.set_postfix({\"loss\": loss, \"acc\": accuracy, \"fbeta\": fbeta})\n",
        "    loss.backward()\n",
        "    optimizer.step()\n",
        "    \n",
        "    fbetas.append(fbeta)\n",
        "    losses.append(loss.detach().cpu().float())\n",
        "    accs.append(accuracy)"
      ],
      "metadata": {
        "execution": {
          "iopub.status.busy": "2023-05-23T20:18:47.230901Z",
          "iopub.execute_input": "2023-05-23T20:18:47.231230Z"
        },
        "trusted": true,
        "id": "TsptTRYUIvWk"
      },
      "execution_count": null,
      "outputs": []
    },
    {
      "cell_type": "code",
      "source": [
        "plt.plot(gaussian_filter1d(losses, sigma=10), label='loss')\n",
        "plt.plot(gaussian_filter1d(accs, sigma=10), label='accs')\n",
        "plt.plot(gaussian_filter1d(fbetas, sigma=10), label='fbetas')\n",
        "plt.legend()"
      ],
      "metadata": {
        "trusted": true,
        "id": "ykxc4yz1IvWk"
      },
      "execution_count": null,
      "outputs": []
    },
    {
      "cell_type": "markdown",
      "source": [
        "Validate the model"
      ],
      "metadata": {
        "id": "3bJc4mdTIvWk"
      }
    },
    {
      "cell_type": "code",
      "source": [
        "del train_loader\n",
        "del train_dataset\n",
        "\n",
        "convnet.eval()\n",
        "val_dataset = SingleFragmentDataset(2)\n",
        "val_loader = thd.DataLoader(val_dataset, BATCH_SIZE, shuffle=True)\n",
        "\n",
        "losses = []\n",
        "accs = []\n",
        "fbetas = []\n",
        "\n",
        "for i, (xs, ys) in enumerate(pbar := tqdm(val_loader)):\n",
        "    if i > MAX_VAL_STEPS:\n",
        "        break\n",
        "    outputs = convnet(xs.to(DEVICE))\n",
        "    loss = criterion(outputs, ys.to(DEVICE))\n",
        "    pred_ink = outputs.detach().gt(0.4).cpu().int()\n",
        "    accuracy = (pred_ink == ys).sum().float().div(ys.size(0))\n",
        "    fbeta = fbeta_score(ys.view(-1).numpy(), pred_ink.view(-1).numpy(), beta=0.5)\n",
        "    pbar.set_postfix({\"loss\": loss, \"acc\": accuracy, \"fbeta\": fbeta})\n",
        "    \n",
        "    fbetas.append(fbeta)\n",
        "    losses.append(loss.detach().cpu().float())\n",
        "    accs.append(accuracy)\n",
        "\n",
        "print(\"Mean loss: \", np.mean(losses))\n",
        "print(\"Mean acc: \", np.mean(accs))\n",
        "print(\"Mean fbetas: \", np.mean(fbetas))"
      ],
      "metadata": {
        "trusted": true,
        "id": "AOvndTZyIvWl"
      },
      "execution_count": null,
      "outputs": []
    },
    {
      "cell_type": "markdown",
      "source": [
        "Generate test predictions"
      ],
      "metadata": {
        "id": "LWIBPGk_IvWl"
      }
    },
    {
      "cell_type": "code",
      "source": [
        "del val_loader\n",
        "del val_dataset\n",
        "\n",
        "submission = defaultdict(list)\n",
        "\n",
        "for fragment in ['a', 'b']:\n",
        "    pixels_with_ink = []\n",
        "    print(f\"Generating predictions for fragment {fragment}\")\n",
        "    test_dataset = SingleFragmentDataset(fragment, is_test=True)\n",
        "    test_loader = thd.DataLoader(test_dataset, BATCH_SIZE, shuffle=True)\n",
        "    for (xs, ys) in (pbar := tqdm(test_loader)):\n",
        "        output = convnet(xs.to(DEVICE))\n",
        "        pred_ink = outputs.detach().gt(0.4).flatten().cpu().int()\n",
        "        pred_ink = pred_ink[:len(ys)]\n",
        "        pixels_with_ink += ys[pred_ink == 1].int().tolist()\n",
        "    pixels_with_ink.sort()\n",
        "    \n",
        "    submission[\"Id\"].append(fragment)\n",
        "    submission[\"Predicted\"].append(' '.join(list(map(lambda p: \"%s 1\" % p, pixels_with_ink))))\n",
        "    \n",
        "pd.DataFrame.from_dict(submission).to_csv(\"/kaggle/working/submission.csv\", index=False)"
      ],
      "metadata": {
        "trusted": true,
        "id": "3k_T4aB9IvWl"
      },
      "execution_count": null,
      "outputs": []
    },
    {
      "cell_type": "code",
      "source": [
        "pd.DataFrame.from_dict(submission)"
      ],
      "metadata": {
        "trusted": true,
        "id": "bdxhuVvNIvWl"
      },
      "execution_count": null,
      "outputs": []
    }
  ]
}